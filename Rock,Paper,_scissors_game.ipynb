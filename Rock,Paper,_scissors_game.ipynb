{
  "nbformat": 4,
  "nbformat_minor": 0,
  "metadata": {
    "colab": {
      "provenance": [],
      "authorship_tag": "ABX9TyMQMdu9O2QFlHj2/PNJRYp5",
      "include_colab_link": true
    },
    "kernelspec": {
      "name": "python3",
      "display_name": "Python 3"
    },
    "language_info": {
      "name": "python"
    }
  },
  "cells": [
    {
      "cell_type": "markdown",
      "metadata": {
        "id": "view-in-github",
        "colab_type": "text"
      },
      "source": [
        "<a href=\"https://colab.research.google.com/github/WajahatAli3218664/Rock-Paper-Scissor-in-Python/blob/main/Rock%2CPaper%2C_scissors_game.ipynb\" target=\"_parent\"><img src=\"https://colab.research.google.com/assets/colab-badge.svg\" alt=\"Open In Colab\"/></a>"
      ]
    },
    {
      "cell_type": "markdown",
      "source": [
        "# **Rock,Paper,Scissors Game**"
      ],
      "metadata": {
        "id": "adFJI1EvRGTh"
      }
    },
    {
      "cell_type": "code",
      "source": [
        "# Topic: Project 4 In Python Quarter 3\n",
        "# Instructor: Wajahat Ali\n",
        "# 🗿 (Rock) | 📄 (Paper) | ✂️ (Scissors) Game\n",
        "\n",
        "import random\n",
        "\n",
        "# Game choices\n",
        "choices = [\"rock\", \"paper\", \"scissors\"]\n",
        "\n",
        "# Player choice\n",
        "player_choice = input(\"Enter rock, paper, or scissors: \").lower()\n",
        "\n",
        "# Validate player input\n",
        "if player_choice not in choices:\n",
        "    print(\"❌ Invalid choice! Please enter rock, paper, or scissors.\")\n",
        "else:\n",
        "    # Computer choice\n",
        "    computer_choice = random.choice(choices)\n",
        "\n",
        "    print(f\"\\n🧑 Player's Choice: {player_choice} | 🤖 Computer's Choice: {computer_choice}\")\n",
        "\n",
        "    # Winner decision\n",
        "    if player_choice == computer_choice:\n",
        "        print(\"🤝 It's a tie!\")\n",
        "    elif (player_choice == \"rock\" and computer_choice == \"scissors\") or \\\n",
        "         (player_choice == \"paper\" and computer_choice == \"rock\") or \\\n",
        "         (player_choice == \"scissors\" and computer_choice == \"paper\"):\n",
        "        print(f\"🎉 Player wins! {player_choice} beats {computer_choice}\")\n",
        "    else:\n",
        "        print(f\"💔 Computer wins! {computer_choice} beats {player_choice}\")\n"
      ],
      "metadata": {
        "colab": {
          "base_uri": "https://localhost:8080/"
        },
        "id": "ytI0cBOQRQk7",
        "outputId": "02bde176-d400-4c0b-983a-893a694a250d"
      },
      "execution_count": 4,
      "outputs": [
        {
          "output_type": "stream",
          "name": "stdout",
          "text": [
            "Enter rock, paper, or scissors: scissors\n",
            "\n",
            "🧑 Player's Choice: scissors | 🤖 Computer's Choice: paper\n",
            "🎉 Player wins! scissors beats paper\n"
          ]
        }
      ]
    }
  ]
}